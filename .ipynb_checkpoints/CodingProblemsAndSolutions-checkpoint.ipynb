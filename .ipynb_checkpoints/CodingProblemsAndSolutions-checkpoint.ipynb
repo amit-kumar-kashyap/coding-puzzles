{
 "cells": [
  {
   "cell_type": "markdown",
   "metadata": {
    "colab_type": "text",
    "id": "view-in-github"
   },
   "source": [
    "<a href=\"https://colab.research.google.com/github/amit-kumar-kashyap/coding-puzzles/blob/main/CodingProblemsAndSolutions.ipynb\" target=\"_parent\"><img src=\"https://colab.research.google.com/assets/colab-badge.svg\" alt=\"Open In Colab\"/></a>"
   ]
  },
  {
   "cell_type": "code",
   "execution_count": null,
   "metadata": {
    "id": "f5AMtbs3XsdW"
   },
   "outputs": [],
   "source": [
    "Problem# 1:\n",
    "Given a list of numbers, return whether any two sums to k. \n",
    "For example, given [10, 15, 3, 7] and k of 17, return true since 10 + 7 is 17.\n"
   ]
  },
  {
   "cell_type": "code",
   "execution_count": null,
   "metadata": {
    "colab": {
     "base_uri": "https://localhost:8080/"
    },
    "id": "6o0jjktsYKgx",
    "outputId": "6bb098e9-dbfb-410c-c3aa-1fe9eaaa1810"
   },
   "outputs": [
    {
     "name": "stdout",
     "output_type": "stream",
     "text": [
      "Approch 1:\n",
      "\n",
      "Input numbers list: [10, 15, 3, 7]\n",
      "Desired sum of two numbers: 17\n",
      "Approch 1: Solving using a set \n",
      "Searching number 10 in the complimentary numbers set: set()\n",
      "Searching number 15 in the complimentary numbers set: {7}\n",
      "Searching number 3 in the complimentary numbers set: {2, 7}\n",
      "Searching number 7 in the complimentary numbers set: {2, 14, 7}\n",
      "Ans: Two candiate numbers are : 7 and 10\n",
      "\n",
      "Input numbers list: []\n",
      "Desired sum of two numbers: 17\n",
      "Approch 1: Solving using a set \n",
      "No two candidates are found in the list\n",
      "\n",
      "Input numbers list: [10, 15, 3, 7]\n",
      "Desired sum of two numbers: 17\n",
      "Approch 1: Solving using a set \n",
      "Searching number 10 in the complimentary numbers set: set()\n",
      "Searching number 15 in the complimentary numbers set: {7}\n",
      "Searching number 3 in the complimentary numbers set: {2, 7}\n",
      "Searching number 7 in the complimentary numbers set: {2, 14, 7}\n",
      "Ans: Two candiate numbers are : 7 and 10\n",
      "\n",
      "Input numbers list: [10, 15, 3, 4]\n",
      "Desired sum of two numbers: 17\n",
      "Approch 1: Solving using a set \n",
      "Searching number 10 in the complimentary numbers set: set()\n",
      "Searching number 15 in the complimentary numbers set: {7}\n",
      "Searching number 3 in the complimentary numbers set: {2, 7}\n",
      "Searching number 4 in the complimentary numbers set: {2, 14, 7}\n",
      "No two candidates are found in the list\n"
     ]
    },
    {
     "data": {
      "text/plain": [
       "False"
      ]
     },
     "execution_count": 1,
     "metadata": {
      "tags": []
     },
     "output_type": "execute_result"
    }
   ],
   "source": [
    "print(\"Approch 1:\")\n",
    "\n",
    "def check_any_two_nums_have_desired_sums(list_nums,desired_sum):\n",
    "\n",
    "  print(\"\\nInput numbers list: \"+str(list_nums)+\"\\nDesired sum of two numbers: \"+str(desired_sum))\n",
    "  print(\"Approch 1: Solving using a set \")\n",
    "  complimentary_numbers_set = set()\n",
    "  for num in list_nums:\n",
    "    print(\"Searching number \"+str(num)+\" in the complimentary numbers set: \"+str(complimentary_numbers_set))\n",
    "    if num in complimentary_numbers_set:\n",
    "      print(\"Ans: Two candiate numbers are : \"+ str(num) +\" and \"+str(desired_sum-num))\n",
    "      return(True)\n",
    "    complimentary_numbers_set.add(desired_sum-num)\n",
    "\n",
    "  print(\"No two candidates are found in the list\")\n",
    "  return(False)\n",
    "  \n",
    "\n",
    "check_any_two_nums_have_desired_sums([10, 15, 3, 7], 17)\n",
    "check_any_two_nums_have_desired_sums([], 17)\n",
    "check_any_two_nums_have_desired_sums([10, 15, 3, 7], 17)\n",
    "check_any_two_nums_have_desired_sums([10, 15, 3, 4], 17)"
   ]
  },
  {
   "cell_type": "code",
   "execution_count": 1,
   "metadata": {},
   "outputs": [
    {
     "name": "stdout",
     "output_type": "stream",
     "text": [
      "\n",
      "Approch 2:\n",
      "Ans: Two candiate numbers are : 3 and 15\n",
      "No two candidates are found in the list\n",
      "Ans: Two candiate numbers are : 7 and 10\n",
      "No two candidates are found in the list\n"
     ]
    },
    {
     "data": {
      "text/plain": [
       "False"
      ]
     },
     "execution_count": 1,
     "metadata": {},
     "output_type": "execute_result"
    }
   ],
   "source": [
    "print(\"\\nApproch 2:\")\n",
    "\n",
    "def check_any_two_nums_have_desired_sums_v2(list_nums,desired_sum):\n",
    "  len_list = len(list_nums)\n",
    "  left = 0\n",
    "  right = len_list-1\n",
    " # Sorting the list\n",
    "  list_nums.sort()\n",
    "\n",
    "  while(left<right):\n",
    "    if (list_nums[left] +list_nums[right] == desired_sum):\n",
    "      print(\"Ans: Two candiate numbers are : \"+ str(list_nums[left]) +\" and \"+str(list_nums[right]))\n",
    "      return(True)\n",
    "    elif (list_nums[left] +list_nums[right] < desired_sum):\n",
    "      left = left+1\n",
    "    else:\n",
    "      right = right-1\n",
    "  print(\"No two candidates are found in the list\")\n",
    "  return(False)\n",
    "\n",
    "check_any_two_nums_have_desired_sums_v2([10, 15, 3, 7,20,13,0,17], 18)\n",
    "check_any_two_nums_have_desired_sums_v2([], 17)\n",
    "check_any_two_nums_have_desired_sums_v2([10, 15, 3, 7], 17)\n",
    "check_any_two_nums_have_desired_sums_v2([10, 15, 3, 4], 17)\n"
   ]
  },
  {
   "cell_type": "markdown",
   "metadata": {
    "id": "F9AW3nBLYB9h"
   },
   "source": []
  }
 ],
 "metadata": {
  "colab": {
   "authorship_tag": "ABX9TyOgXEkV0M8zKtOtYISxwuTB",
   "include_colab_link": true,
   "name": "CodingProblemsAndSolutions.ipynb",
   "provenance": []
  },
  "kernelspec": {
   "display_name": "Python 3",
   "language": "python",
   "name": "python3"
  },
  "language_info": {
   "codemirror_mode": {
    "name": "ipython",
    "version": 3
   },
   "file_extension": ".py",
   "mimetype": "text/x-python",
   "name": "python",
   "nbconvert_exporter": "python",
   "pygments_lexer": "ipython3",
   "version": "3.6.6"
  }
 },
 "nbformat": 4,
 "nbformat_minor": 1
}

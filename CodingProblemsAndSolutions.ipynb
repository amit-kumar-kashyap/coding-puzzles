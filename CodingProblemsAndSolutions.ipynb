{
  "nbformat": 4,
  "nbformat_minor": 0,
  "metadata": {
    "colab": {
      "name": "CodingProblemsAndSolutions.ipynb",
      "provenance": [],
      "authorship_tag": "ABX9TyOgXEkV0M8zKtOtYISxwuTB",
      "include_colab_link": true
    },
    "kernelspec": {
      "name": "python3",
      "display_name": "Python 3"
    }
  },
  "cells": [
    {
      "cell_type": "markdown",
      "metadata": {
        "id": "view-in-github",
        "colab_type": "text"
      },
      "source": [
        "<a href=\"https://colab.research.google.com/github/amit-kumar-kashyap/coding-puzzles/blob/main/CodingProblemsAndSolutions.ipynb\" target=\"_parent\"><img src=\"https://colab.research.google.com/assets/colab-badge.svg\" alt=\"Open In Colab\"/></a>"
      ]
    },
    {
      "cell_type": "code",
      "metadata": {
        "id": "f5AMtbs3XsdW"
      },
      "source": [
        "Problem# 1:\n",
        "Given a list of numbers, return whether any two sums to k. \n",
        "For example, given [10, 15, 3, 7] and k of 17, return true since 10 + 7 is 17.\n"
      ],
      "execution_count": null,
      "outputs": []
    },
    {
      "cell_type": "code",
      "metadata": {
        "id": "6o0jjktsYKgx",
        "outputId": "6bb098e9-dbfb-410c-c3aa-1fe9eaaa1810",
        "colab": {
          "base_uri": "https://localhost:8080/"
        }
      },
      "source": [
        "print(\"Approch 1:\")\n",
        "\n",
        "def check_any_two_nums_have_desired_sums(list_nums,desired_sum):\n",
        "\n",
        "  print(\"\\nInput numbers list: \"+str(list_nums)+\"\\nDesired sum of two numbers: \"+str(desired_sum))\n",
        "  print(\"Approch 1: Solving using a set \")\n",
        "  complimentary_numbers_set = set()\n",
        "  for num in list_nums:\n",
        "    print(\"Searching number \"+str(num)+\" in the complimentary numbers set: \"+str(complimentary_numbers_set))\n",
        "    if num in complimentary_numbers_set:\n",
        "      print(\"Ans: Two candiate numbers are : \"+ str(num) +\" and \"+str(desired_sum-num))\n",
        "      return(True)\n",
        "    complimentary_numbers_set.add(desired_sum-num)\n",
        "\n",
        "  print(\"No two candidates are found in the list\")\n",
        "  return(False)\n",
        "  \n",
        "\n",
        "check_any_two_nums_have_desired_sums([10, 15, 3, 7], 17)\n",
        "check_any_two_nums_have_desired_sums([], 17)\n",
        "check_any_two_nums_have_desired_sums([10, 15, 3, 7], 17)\n",
        "check_any_two_nums_have_desired_sums([10, 15, 3, 4], 17)"
      ],
      "execution_count": null,
      "outputs": [
        {
          "output_type": "stream",
          "text": [
            "Approch 1:\n",
            "\n",
            "Input numbers list: [10, 15, 3, 7]\n",
            "Desired sum of two numbers: 17\n",
            "Approch 1: Solving using a set \n",
            "Searching number 10 in the complimentary numbers set: set()\n",
            "Searching number 15 in the complimentary numbers set: {7}\n",
            "Searching number 3 in the complimentary numbers set: {2, 7}\n",
            "Searching number 7 in the complimentary numbers set: {2, 14, 7}\n",
            "Ans: Two candiate numbers are : 7 and 10\n",
            "\n",
            "Input numbers list: []\n",
            "Desired sum of two numbers: 17\n",
            "Approch 1: Solving using a set \n",
            "No two candidates are found in the list\n",
            "\n",
            "Input numbers list: [10, 15, 3, 7]\n",
            "Desired sum of two numbers: 17\n",
            "Approch 1: Solving using a set \n",
            "Searching number 10 in the complimentary numbers set: set()\n",
            "Searching number 15 in the complimentary numbers set: {7}\n",
            "Searching number 3 in the complimentary numbers set: {2, 7}\n",
            "Searching number 7 in the complimentary numbers set: {2, 14, 7}\n",
            "Ans: Two candiate numbers are : 7 and 10\n",
            "\n",
            "Input numbers list: [10, 15, 3, 4]\n",
            "Desired sum of two numbers: 17\n",
            "Approch 1: Solving using a set \n",
            "Searching number 10 in the complimentary numbers set: set()\n",
            "Searching number 15 in the complimentary numbers set: {7}\n",
            "Searching number 3 in the complimentary numbers set: {2, 7}\n",
            "Searching number 4 in the complimentary numbers set: {2, 14, 7}\n",
            "No two candidates are found in the list\n"
          ],
          "name": "stdout"
        },
        {
          "output_type": "execute_result",
          "data": {
            "text/plain": [
              "False"
            ]
          },
          "metadata": {
            "tags": []
          },
          "execution_count": 1
        }
      ]
    },
    {
      "cell_type": "markdown",
      "metadata": {
        "id": "F9AW3nBLYB9h"
      },
      "source": [
        ""
      ]
    }
  ]
}